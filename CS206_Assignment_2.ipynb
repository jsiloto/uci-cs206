{
 "cells": [
  {
   "cell_type": "markdown",
   "metadata": {
    "id": "j8QZVg-lgHt0"
   },
   "source": [
    "# 6) NLA Exercise 8.2\n",
    "Write a function mgs(A) that computes a reduced $\\hat{Q}\\hat{R}$ factorization using the modified Gram-Schmidt orthogonalization"
   ]
  },
  {
   "cell_type": "code",
   "execution_count": 1,
   "metadata": {
    "colab": {
     "base_uri": "https://localhost:8080/"
    },
    "id": "NX5ySbndgm1O",
    "outputId": "9c6adc52-fdd4-4988-ea77-3df010118257"
   },
   "outputs": [
    {
     "name": "stdout",
     "output_type": "stream",
     "text": [
      "[[ 0.70710678  0.57735027]\n",
      " [ 0.          0.57735027]\n",
      " [ 0.70710678 -0.57735027]]\n",
      "[[1.41421356 1.41421356]\n",
      " [0.         1.73205081]]\n",
      "[[ 1.0000000e+00  2.0000000e+00]\n",
      " [ 0.0000000e+00  1.0000000e+00]\n",
      " [ 1.0000000e+00 -1.7026819e-16]]\n"
     ]
    }
   ],
   "source": [
    "import numpy as np\n",
    "\n",
    "def mgs(A):\n",
    "  assert np.issubdtype(np.float64, A.dtype)\n",
    "  #Initialize V0\n",
    "  q = A.T[0]/np.linalg.norm(A.T[0])\n",
    "  v = A.T[0]\n",
    "  Q = []\n",
    "  Q.append(q)\n",
    "\n",
    "  # Calculate Q Matrix\n",
    "  for i in range(1, A.shape[1]):\n",
    "    v_new = A.T[i] \n",
    "    for qq in Q:\n",
    "      v_new = v_new - (A.T[i].dot(qq))*qq\n",
    "    q = v_new/np.linalg.norm(v_new)\n",
    "    Q.append(q)\n",
    "  Q = np.array(Q)\n",
    "\n",
    "  # Calculate R Matrix\n",
    "  R=np.zeros((A.shape))\n",
    "  for i in range(A.shape[1]):\n",
    "    for j in range(i+1):\n",
    "      R[j][i] = Q[j].dot(A.T[i])\n",
    "\n",
    "  m = min(R.shape)\n",
    "  R = R[:m, :m]\n",
    "  return Q.T, R\n",
    "\n",
    "A = np.array([[1.0, 0, 1], [2, 1, 0]]).T\n",
    "Q, R = mgs(A)\n",
    "\n",
    "print(Q)\n",
    "print(R)\n",
    "print(Q.dot(R))"
   ]
  },
  {
   "cell_type": "markdown",
   "metadata": {
    "id": "PVqr5_bgg5SQ"
   },
   "source": [
    "# 7)\n",
    "Apply the [Q,R]=mgs(A) function you have written in the previous problem to\n",
    "the following matrix. Check the orthogonality of Q matrix by calculating norm(Q’*Q-eye(2)). Compare the value returned by mgs vs the one returned by the qr function in Matlab.\n",
    " $$\\begin{bmatrix}\n",
    "0.700000 & 0.70711\\\\\n",
    "0.70001 & 0.70711\n",
    "\\end{bmatrix}$$ \n",
    "\n",
    "R) Matrices are equal but have an inverted signal"
   ]
  },
  {
   "cell_type": "code",
   "execution_count": 2,
   "metadata": {
    "colab": {
     "base_uri": "https://localhost:8080/"
    },
    "id": "7aQloERVhkA9",
    "outputId": "e5b6a2ef-fc56-4d1e-bf35-2ff9b4e6f61b"
   },
   "outputs": [
    {
     "name": "stdout",
     "output_type": "stream",
     "text": [
      "[[ 0.70710173  0.70711183]\n",
      " [ 0.70711183 -0.70710173]]\n",
      "[[9.89956565e-01 1.00000455e+00]\n",
      " [0.00000000e+00 7.14286165e-06]]\n",
      "3.254726094493924e-11\n",
      "[[-0.70710173 -0.70711183]\n",
      " [-0.70711183  0.70710173]]\n",
      "[[-9.89956565e-01 -1.00000455e+00]\n",
      " [ 0.00000000e+00 -7.14283864e-06]]\n"
     ]
    }
   ],
   "source": [
    "A = np.array([[0.7, 0.70711], [0.70001, 0.70711]])\n",
    "Q, R = mgs(A)\n",
    "print(Q)\n",
    "print(R)\n",
    "\n",
    "\n",
    "print(np.linalg.norm(Q.T.dot(Q)-np.identity(2)))\n",
    "Q, R,  = np.linalg.qr(A, mode='reduced')\n",
    "print(Q)\n",
    "print(R)"
   ]
  },
  {
   "cell_type": "markdown",
   "metadata": {
    "id": "6oDvHAqKiAKd"
   },
   "source": [
    "# 9) NLA 10.2\n",
    "Write a function\n",
    "\n",
    "a) W, R = house(A) that computes QR factorization using the householder reflector method\n",
    "\n",
    "b) Q = formQ(W) that retrieves the Q coeficients"
   ]
  },
  {
   "cell_type": "code",
   "execution_count": 3,
   "metadata": {
    "colab": {
     "base_uri": "https://localhost:8080/"
    },
    "id": "5oP-r97yigLs",
    "outputId": "63a52aa0-790d-4f42-e34c-9e2287ebb3e8"
   },
   "outputs": [
    {
     "name": "stdout",
     "output_type": "stream",
     "text": [
      "[[ 0.92387953  0.        ]\n",
      " [ 0.          0.88807383]\n",
      " [ 0.38268343 -0.45970084]]\n",
      "[[-1.41421356 -1.41421356]\n",
      " [ 0.         -1.73205081]]\n",
      "[[-0.70710678 -0.57735027]\n",
      " [ 0.         -0.57735027]\n",
      " [-0.70710678  0.57735027]]\n",
      "[[ 1.00000000e+00  2.00000000e+00]\n",
      " [ 0.00000000e+00  1.00000000e+00]\n",
      " [ 1.00000000e+00 -6.61280946e-16]]\n"
     ]
    }
   ],
   "source": [
    "def house(A):\n",
    "  R = A.copy()\n",
    "  W = np.zeros(A.shape)\n",
    "  \n",
    "  for k in range(R.shape[1]):\n",
    "    X = R[k:, k].copy()\n",
    "    e = np.zeros(R.shape[0]-k)\n",
    "    e[0] = 1.0\n",
    "    vk = np.sign(X[0])*np.linalg.norm(X)*e + X\n",
    "    vk = vk/np.linalg.norm(vk)\n",
    "    W[k:, k] = vk\n",
    "    R[k:, k:] = R[k:, k:]+ np.outer(-2*vk, vk.T.dot(R[k:, k:]))\n",
    "\n",
    "\n",
    "  n = min(R.shape)\n",
    "  R = R[:n, :n]\n",
    "  return W, R\n",
    "\n",
    "\n",
    "A = np.array([[1.0, 0, 1], [2, 1, 0]]).T\n",
    "W, R = house(A)\n",
    "print(W)\n",
    "print(R)\n",
    "\n",
    "def formQ(W):\n",
    "  W=W.copy()\n",
    "  m = max(W.shape)\n",
    "  n = min(W.shape)\n",
    "  Q = np.identity(m)\n",
    "  for i in range(n-1, -1, -1):\n",
    "    q = W[i:,i].T.dot(Q[i:,:])\n",
    "    q = np.outer(2*W[i:,i].T, q)\n",
    "    Q[i:m,:] = Q[i:m,:]-q\n",
    "\n",
    "  m = min(W.shape)\n",
    "  Q = Q[:, :m]\n",
    "  return Q\n",
    "\n",
    "Q = formQ(W)\n",
    "print(Q)\n",
    "print(Q.dot(R))"
   ]
  },
  {
   "cell_type": "markdown",
   "metadata": {
    "id": "X9iCC0-visqj"
   },
   "source": [
    "# 10) 10.3\n",
    "\n",
    "Compare the previous results with the built-in functions for python on the following matrix\n",
    " $$\\begin{bmatrix}\n",
    "1 & 2 & 3\\\\\n",
    "4 & 5 & 6\\\\\n",
    "7 & 8 & 7\\\\\n",
    "4 & 2 & 3\\\\\n",
    "4 & 2 & 2\n",
    "\\end{bmatrix}$$ \n",
    "\n",
    "\n",
    "R) We can see that in all cases We are able to recover Z from QR"
   ]
  },
  {
   "cell_type": "code",
   "execution_count": 4,
   "metadata": {
    "colab": {
     "base_uri": "https://localhost:8080/"
    },
    "id": "QDIEBPvqjN7I",
    "outputId": "2fe51bf0-0347-4ff9-cfb2-5c0ad40f88d0"
   },
   "outputs": [
    {
     "name": "stdout",
     "output_type": "stream",
     "text": [
      "\n",
      "My QR\n",
      "[[ 0.10101525  0.31617307  0.5419969 ]\n",
      " [ 0.40406102  0.3533699   0.51618752]\n",
      " [ 0.70710678  0.39056673 -0.52479065]\n",
      " [ 0.40406102 -0.55795248  0.38714064]\n",
      " [ 0.40406102 -0.55795248 -0.12044376]]\n",
      "[[9.89949494 9.49543392 9.69746443]\n",
      " [0.         3.29191961 3.01294337]\n",
      " [0.         0.         1.97011572]]\n",
      "[[1. 2. 3.]\n",
      " [4. 5. 6.]\n",
      " [7. 8. 7.]\n",
      " [4. 2. 3.]\n",
      " [4. 2. 2.]]\n",
      "\n",
      "Python QR\n",
      "[[-0.10101525 -0.31617307  0.5419969 ]\n",
      " [-0.40406102 -0.3533699   0.51618752]\n",
      " [-0.70710678 -0.39056673 -0.52479065]\n",
      " [-0.40406102  0.55795248  0.38714064]\n",
      " [-0.40406102  0.55795248 -0.12044376]]\n",
      "[[-9.89949494 -9.49543392 -9.69746443]\n",
      " [ 0.         -3.29191961 -3.01294337]\n",
      " [ 0.          0.          1.97011572]]\n",
      "[[1. 2. 3.]\n",
      " [4. 5. 6.]\n",
      " [7. 8. 7.]\n",
      " [4. 2. 3.]\n",
      " [4. 2. 2.]]\n",
      "\n",
      "My House\n",
      "[[ 0.74196201  0.          0.        ]\n",
      " [ 0.27229225  0.78655506  0.        ]\n",
      " [ 0.47651145  0.11919725 -0.9800408 ]\n",
      " [ 0.27229225 -0.42844087  0.18420552]\n",
      " [ 0.27229225 -0.42844087 -0.07475533]]\n",
      "[[-9.89949494 -9.49543392 -9.69746443]\n",
      " [ 0.         -3.29191961 -3.01294337]\n",
      " [ 0.          0.          1.97011572]]\n",
      "[[-0.10101525 -0.31617307  0.5419969 ]\n",
      " [-0.40406102 -0.3533699   0.51618752]\n",
      " [-0.70710678 -0.39056673 -0.52479065]\n",
      " [-0.40406102  0.55795248  0.38714064]\n",
      " [-0.40406102  0.55795248 -0.12044376]]\n",
      "[[1. 2. 3.]\n",
      " [4. 5. 6.]\n",
      " [7. 8. 7.]\n",
      " [4. 2. 3.]\n",
      " [4. 2. 2.]]\n",
      "\n",
      "Python House\n",
      "[[-9.89949494  0.36698948  0.64223159  0.36698948  0.36698948]\n",
      " [-9.49543392 -3.29191961  0.15154343 -0.54470551 -0.54470551]\n",
      " [-9.69746443 -3.01294337  1.97011572 -0.18795699  0.07627778]]\n",
      "[1.10101525 1.23733771 1.92095994]\n"
     ]
    }
   ],
   "source": [
    "Z = np.array([\n",
    "    [1.0, 2, 3],\n",
    "    [4, 5, 6],\n",
    "    [7, 8, 7],\n",
    "    [4, 2, 3],\n",
    "    [4, 2, 2],\n",
    "])\n",
    "\n",
    "print(\"\\nMy QR\")\n",
    "Q, R = mgs(Z)\n",
    "print(Q)\n",
    "print(R)\n",
    "print(Q.dot(R))\n",
    "\n",
    "print(\"\\nPython QR\")\n",
    "Q, R = np.linalg.qr(Z)\n",
    "print(Q)\n",
    "print(R)\n",
    "print(Q.dot(R))\n",
    "\n",
    "#####################\n",
    "print(\"\\nMy House\")\n",
    "W, R = house(Z)\n",
    "print(W)\n",
    "print(R)\n",
    "Q = formQ(W)\n",
    "print(Q)\n",
    "print(Q.dot(R))\n",
    "\n",
    "print(\"\\nPython House\")\n",
    "h, tau = np.linalg.qr(Z, mode='raw')\n",
    "print(h)\n",
    "print(tau)\n"
   ]
  }
 ],
 "metadata": {
  "colab": {
   "provenance": []
  },
  "kernelspec": {
   "display_name": "Python 3 (ipykernel)",
   "language": "python",
   "name": "python3"
  },
  "language_info": {
   "codemirror_mode": {
    "name": "ipython",
    "version": 3
   },
   "file_extension": ".py",
   "mimetype": "text/x-python",
   "name": "python",
   "nbconvert_exporter": "python",
   "pygments_lexer": "ipython3",
   "version": "3.10.6"
  }
 },
 "nbformat": 4,
 "nbformat_minor": 1
}
