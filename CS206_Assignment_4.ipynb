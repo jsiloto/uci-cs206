{
 "cells": [
  {
   "cell_type": "markdown",
   "id": "466cd22c",
   "metadata": {},
   "source": [
    "# 9.30 Gradient and Newton methods\n",
    "\n",
    "minimize\n",
    "f (x) = −\n",
    "P m\n",
    "i=1\n",
    "log(1 − a Ti x) −\n",
    "P n\n",
    "i=1\n",
    "log(1 − x 2 i ),\n",
    "\n",
    "a) Use the gradient method to solve the problem, using reasonable choices for the back-\n",
    "tracking parameters, and a stopping criterion of the form k∇f (x)k 2 ≤ η. Plot the\n",
    "objective function and step length versus iteration number. (Once you have deter-\n",
    "mined p ⋆ to high accuracy, you can also plot f − p ⋆ versus iteration.) Experiment\n",
    "with the backtracking parameters α and β to see their effect on the total number of\n",
    "iterations required. Carry these experiments out for several instances of the problem,\n",
    "of different sizes.\n",
    "\n",
    "(b) Repeat using Newton’s method, with stopping criterion based on the Newton decre-\n",
    "ment λ 2 . Look for quadratic convergence. You do not have to use an efficient method\n",
    "to compute the Newton step, as in exercise 9.27; you can use a general purpose dense\n",
    "solver, although it is better to use one that is based on a Cholesky factorization."
   ]
  },
  {
   "cell_type": "code",
   "execution_count": null,
   "id": "e8d8539a",
   "metadata": {},
   "outputs": [],
   "source": [
    "def gradient_descent(f, df, alpha, beta):\n",
    "    eta=1e-5 # Stopping criterion\n",
    "    \n",
    "    while df(x) < eta:\n",
    "        # 1. Determine a descent direction ∆x\n",
    "        deltax = df(x)\n",
    "        # 2. Line search: choose a step size t > 0\n",
    "        while f(x + t*deltax) > f(x) + alpha*t*df(x)*deltax:\n",
    "                t = beta*t\n",
    "        # 3. Update: x := x + t∆x\n",
    "        x = x + t*df(x)\n",
    "        \n",
    "    return x, f(x)\n",
    "    "
   ]
  },
  {
   "cell_type": "code",
   "execution_count": null,
   "id": "6b18a661",
   "metadata": {},
   "outputs": [],
   "source": [
    "def newton_method(f, df, ddf, alpha, beta):\n",
    "    epsilon = 1e-5\n",
    "    \n",
    "    lambd = 1e10\n",
    "    while lambd/2 < epsilon:\n",
    "        # 1. Determine a descent direction ∆x\n",
    "        deltax := −inverse(ddf(x))*df(x)\n",
    "        lambd = -df(x)*deltax\n",
    "        # 2. Line search: choose a step size t > 0\n",
    "        while f(x + t*deltax) > f(x) + alpha*t*df(x)*deltax:\n",
    "                t = beta*t\n",
    "                \n",
    "        # 3. Update: x := x + t∆x\n",
    "        x = x + t*df(x)"
   ]
  }
 ],
 "metadata": {
  "kernelspec": {
   "display_name": "Python 3 (ipykernel)",
   "language": "python",
   "name": "python3"
  },
  "language_info": {
   "codemirror_mode": {
    "name": "ipython",
    "version": 3
   },
   "file_extension": ".py",
   "mimetype": "text/x-python",
   "name": "python",
   "nbconvert_exporter": "python",
   "pygments_lexer": "ipython3",
   "version": "3.10.6"
  }
 },
 "nbformat": 4,
 "nbformat_minor": 5
}
