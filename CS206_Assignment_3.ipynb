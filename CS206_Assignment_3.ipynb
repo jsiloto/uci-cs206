{
 "cells": [
  {
   "cell_type": "markdown",
   "metadata": {
    "id": "rtTVJ4ILszQz"
   },
   "source": [
    "# CS206 Assignment 3\n",
    "# Juliano Siloto Assine - 28406942\n",
    "\n",
    "NLA Textbook Problem 29.1 - items a, b, c\n",
    "\n"
   ]
  },
  {
   "cell_type": "markdown",
   "metadata": {
    "id": "K3JAHUebjhQX"
   },
   "source": [
    "\n",
    "### A) Write a ```tridiag(A)``` function that computes the hessenberg form \n",
    "### Apply the program to ```A = scipy.linalg.hilbert(4)```"
   ]
  },
  {
   "cell_type": "code",
   "execution_count": 1,
   "metadata": {
    "colab": {
     "base_uri": "https://localhost:8080/",
     "height": 0
    },
    "id": "xOga4rn6OG66",
    "outputId": "76d8e669-fa0b-40ff-f9cf-1d08cbc46140"
   },
   "outputs": [
    {
     "name": "stdout",
     "output_type": "stream",
     "text": [
      "[[1.         0.5        0.33333333 0.25      ]\n",
      " [0.5        0.33333333 0.25       0.2       ]\n",
      " [0.33333333 0.25       0.2        0.16666667]\n",
      " [0.25       0.2        0.16666667 0.14285714]]\n",
      "Tridiagnoal form from my alg\n",
      "[[ 1.00000000e+00 -6.50854140e-01  0.00000000e+00  0.00000000e+00]\n",
      " [-6.50854140e-01  6.50585480e-01  6.39118800e-02  0.00000000e+00]\n",
      " [ 0.00000000e+00  6.39118800e-02  2.53201434e-02  1.16520804e-03]\n",
      " [ 0.00000000e+00  0.00000000e+00  1.16520804e-03  2.84852680e-04]]\n",
      "Tridiagnoal form from my scipy\n",
      "[[ 1.00000000e+00 -6.50854140e-01  0.00000000e+00  0.00000000e+00]\n",
      " [-6.50854140e-01  6.50585480e-01  6.39118800e-02 -1.38777878e-17]\n",
      " [ 0.00000000e+00  6.39118800e-02  2.53201434e-02 -1.16520804e-03]\n",
      " [ 0.00000000e+00  0.00000000e+00 -1.16520804e-03  2.84852680e-04]]\n"
     ]
    }
   ],
   "source": [
    "import numpy as np\n",
    "import scipy.linalg\n",
    "\n",
    "def tridiag(A):\n",
    "  R = A.copy()\n",
    "  W = np.zeros(A.shape)\n",
    "  for k in range(R.shape[1]-1):\n",
    "    X = R[k+1:, k].copy()\n",
    "    e = np.zeros(R.shape[0]-k-1)\n",
    "    e[0] = 1.0\n",
    "    vk = np.sign(X[0])*np.linalg.norm(X)*e + X\n",
    "    vk = vk/np.linalg.norm(vk)\n",
    "    R[k+1:, k:] = R[k+1:, k:]+ np.outer(-2*vk, vk.T.dot(R[k+1:, k:]))\n",
    "    R[:, k+1:] = R[:, k+1:]+ np.outer(R[:, k+1:].dot(vk.T), -2*vk)\n",
    "\n",
    "  for i in range(R.shape[0]):\n",
    "    for j in range(R.shape[1]):\n",
    "      if abs(i-j)>1:\n",
    "        R[i, j] = 0\n",
    "  return R\n",
    "\n",
    "A = scipy.linalg.hilbert(4)\n",
    "print(A)\n",
    "print(\"Tridiagnoal form from my alg\")\n",
    "R = tridiag(A)\n",
    "print(R)\n",
    "R = scipy.linalg.hessenberg(A)\n",
    "print(\"Tridiagnoal form from my scipy\")\n",
    "print(R)"
   ]
  },
  {
   "cell_type": "markdown",
   "metadata": {
    "id": "veDL76pIjUzp"
   },
   "source": [
    "### B) Write a ```qralg(A)``` function that runs unshifted QR decomposition\n"
   ]
  },
  {
   "cell_type": "code",
   "execution_count": 2,
   "metadata": {
    "colab": {
     "base_uri": "https://localhost:8080/",
     "height": 0
    },
    "id": "U87b0OBahjGb",
    "outputId": "5358880b-b3ae-46f1-e470-09779b5f2855"
   },
   "outputs": [
    {
     "name": "stdout",
     "output_type": "stream",
     "text": [
      "[[1.50020163e+00 2.00608240e-06 0.00000000e+00 0.00000000e+00]\n",
      " [2.00608240e-06 1.69171258e-01 8.00144939e-10 0.00000000e+00]\n",
      " [0.00000000e+00 8.00144915e-10 6.72100007e-03 7.52228411e-14]\n",
      " [0.00000000e+00 0.00000000e+00 7.52271739e-14 9.65906904e-05]]\n"
     ]
    }
   ],
   "source": [
    "def qralg(A):\n",
    "  Z = A.copy()\n",
    "  while True:\n",
    "    Q, R,  = np.linalg.qr(Z, mode='reduced')\n",
    "    Z = R.dot(Q)\n",
    "    for i in range(Z.shape[0]):\n",
    "      for j in range(Z.shape[1]):\n",
    "        if abs(i-j)>1:\n",
    "          Z[i, j] = 0\n",
    "    if abs(Z[-1, -2]) < 1e-12:\n",
    "      break\n",
    "  return Z\n",
    "\n",
    "A = scipy.linalg.hilbert(4)\n",
    "# print(A)\n",
    "R = qralg(A)\n",
    "print(R)\n"
   ]
  },
  {
   "cell_type": "markdown",
   "metadata": {
    "id": "xsW_IzZpjl-S"
   },
   "source": [
    "### C) Write a program that calls ```tridiag(A)``` and ```qralg(A)``` to obtain one eigenvalue, does the same process iteratively on a submatrix and so on untill all eigenvalyes are found"
   ]
  },
  {
   "cell_type": "code",
   "execution_count": 3,
   "metadata": {
    "colab": {
     "base_uri": "https://localhost:8080/",
     "height": 317
    },
    "id": "6rNf3zmNjszy",
    "outputId": "d44c87dc-157b-4042-b9ee-99609d7d5680"
   },
   "outputs": [
    {
     "name": "stdout",
     "output_type": "stream",
     "text": [
      "Eigenvalues from my alg:  [1.500214280059243, 0.16914122022144998, 0.0067382736057606946, 9.670230402259938e-05]\n",
      "Eigenvalues from my scipy:  [1.50021428e+00 1.69141220e-01 6.73827361e-03 9.67023040e-05]\n"
     ]
    },
    {
     "data": {
      "text/plain": [
       "[<matplotlib.lines.Line2D at 0x7fa721c3dc90>]"
      ]
     },
     "execution_count": 3,
     "metadata": {},
     "output_type": "execute_result"
    },
    {
     "data": {
      "image/png": "[encoded data removed]",
      "text/plain": [
       "<Figure size 640x480 with 1 Axes>"
      ]
     },
     "metadata": {},
     "output_type": "display_data"
    }
   ],
   "source": [
    "from numpy.linalg.linalg import eig\n",
    "from numpy.linalg import qr\n",
    "import matplotlib.pyplot as plt\n",
    "\n",
    "\n",
    "def qralg2(A):\n",
    "  Z = A.copy()\n",
    "  error_list = []\n",
    "  while True:\n",
    "    Q, R,  = np.linalg.qr(Z, mode='reduced')\n",
    "    Z = R.dot(Q)\n",
    "    error = abs(Z[-1, -2])\n",
    "    error_list.append(error)\n",
    "    if error < 1e-12:\n",
    "      break\n",
    "\n",
    "  return Z, error_list\n",
    "\n",
    "\n",
    "def eigenvalues(A):\n",
    "  Z = A.copy()\n",
    "  eigen = []\n",
    "  errors = []\n",
    "  Z = tridiag(Z)\n",
    "  for i in range(Z.shape[0]):\n",
    "    if(Z.shape[0]) == 1:\n",
    "      eigen.append(Z[0, 0])\n",
    "      break\n",
    "    Z, error_list = qralg2(Z)\n",
    "    eigen.append(Z[-1, -1])\n",
    "    errors += error_list\n",
    "    Z = Z[:-1, :-1]\n",
    "  \n",
    "  return eigen, errors\n",
    "  \n",
    "\n",
    "A = scipy.linalg.hilbert(4)\n",
    "eigen, errors = eigenvalues(A)\n",
    "print(\"Eigenvalues from my alg: \", eigen[::-1])\n",
    "\n",
    "eigen, _ = scipy.linalg.eig(A)\n",
    "print(\"Eigenvalues from my scipy: \",abs(eigen))\n",
    "\n",
    "plt.semilogy(errors)"
   ]
  }
 ],
 "metadata": {
  "colab": {
   "provenance": []
  },
  "kernelspec": {
   "display_name": "Python 3 (ipykernel)",
   "language": "python",
   "name": "python3"
  },
  "language_info": {
   "codemirror_mode": {
    "name": "ipython",
    "version": 3
   },
   "file_extension": ".py",
   "mimetype": "text/x-python",
   "name": "python",
   "nbconvert_exporter": "python",
   "pygments_lexer": "ipython3",
   "version": "3.10.6"
  }
 },
 "nbformat": 4,
 "nbformat_minor": 1
}
